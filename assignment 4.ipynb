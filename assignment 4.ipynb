{
 "cells": [
  {
   "cell_type": "markdown",
   "id": "5663ba4c",
   "metadata": {},
   "source": [
    "## Paragraph \n",
    "##### I enjoy reading books for many reasons. Firstly, I love that books offer a gateway to different worlds and perspectives. I love the fact that I can truly immerse myself in that world. Books have the power to transport me into a different world. My favorite series is definitely Game of thrones. Game of thrones is very detailed and captivating. The dialogue, world building, and storytelling is amazing. I also love the fact that most of the plot you can never tell what was going to happen.  My favorite character is Tyrion."
   ]
  },
  {
   "cell_type": "code",
   "execution_count": 2,
   "id": "9672f84f",
   "metadata": {},
   "outputs": [
    {
     "data": {
      "text/html": [
       "\n",
       "<video width=\"320\" height=\"240\" controls>\n",
       "  <source src=\"https://github.com/imanaaay/Books/raw/main/Video%20(1).mov\" type=\"video/mp4\">\n",
       "</video>\n"
      ],
      "text/plain": [
       "<IPython.core.display.HTML object>"
      ]
     },
     "execution_count": 2,
     "metadata": {},
     "output_type": "execute_result"
    }
   ],
   "source": [
    "from IPython.display import HTML\n",
    "HTML(\"\"\"\n",
    "<video width=\"320\" height=\"240\" controls>\n",
    "  <source src=\"https://github.com/imanaaay/Books/raw/main/Video%20(1).mov\" type=\"video/mp4\">\n",
    "</video>\n",
    "\"\"\")\n"
   ]
  },
  {
   "cell_type": "code",
   "execution_count": null,
   "id": "028fa8d9",
   "metadata": {},
   "outputs": [],
   "source": []
  }
 ],
 "metadata": {
  "kernelspec": {
   "display_name": "Python 3 (ipykernel)",
   "language": "python",
   "name": "python3"
  },
  "language_info": {
   "codemirror_mode": {
    "name": "ipython",
    "version": 3
   },
   "file_extension": ".py",
   "mimetype": "text/x-python",
   "name": "python",
   "nbconvert_exporter": "python",
   "pygments_lexer": "ipython3",
   "version": "3.10.9"
  }
 },
 "nbformat": 4,
 "nbformat_minor": 5
}
